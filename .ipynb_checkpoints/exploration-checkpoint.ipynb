{
 "cells": [
  {
   "cell_type": "code",
   "execution_count": 19,
   "metadata": {
    "collapsed": true
   },
   "outputs": [],
   "source": [
    "import numpy as np\n",
    "import pandas as pd \n",
    "from pandas import DataFrame, Series"
   ]
  },
  {
   "cell_type": "code",
   "execution_count": 20,
   "metadata": {
    "collapsed": true
   },
   "outputs": [],
   "source": [
    "gomc_df = pd.read_csv(\"gomc.csv\")"
   ]
  },
  {
   "cell_type": "code",
   "execution_count": 39,
   "metadata": {
    "collapsed": false
   },
   "outputs": [
    {
     "data": {
      "text/plain": [
       "6792"
      ]
     },
     "execution_count": 39,
     "metadata": {},
     "output_type": "execute_result"
    }
   ],
   "source": [
    "gomc_df.size"
   ]
  },
  {
   "cell_type": "code",
   "execution_count": 40,
   "metadata": {
    "collapsed": false
   },
   "outputs": [
    {
     "data": {
      "text/html": [
       "<div>\n",
       "<table border=\"1\" class=\"dataframe\">\n",
       "  <thead>\n",
       "    <tr style=\"text-align: right;\">\n",
       "      <th></th>\n",
       "      <th>﻿cid_value</th>\n",
       "      <th>country_value</th>\n",
       "      <th>region_value</th>\n",
       "      <th>rating_value</th>\n",
       "    </tr>\n",
       "  </thead>\n",
       "  <tbody>\n",
       "    <tr>\n",
       "      <th>0</th>\n",
       "      <td>3715278914</td>\n",
       "      <td>India</td>\n",
       "      <td>Asia Pacific</td>\n",
       "      <td>AdWords Business Global Winner</td>\n",
       "    </tr>\n",
       "    <tr>\n",
       "      <th>1</th>\n",
       "      <td>8150992559</td>\n",
       "      <td>United States</td>\n",
       "      <td>Americas</td>\n",
       "      <td>AdWords Business Regional Winner Americas</td>\n",
       "    </tr>\n",
       "    <tr>\n",
       "      <th>2</th>\n",
       "      <td>5053993634</td>\n",
       "      <td>India</td>\n",
       "      <td>Asia Pacific</td>\n",
       "      <td>AdWords Business Regional Winner Asia Pacific</td>\n",
       "    </tr>\n",
       "    <tr>\n",
       "      <th>3</th>\n",
       "      <td>2172973789</td>\n",
       "      <td>Germany</td>\n",
       "      <td>Europe</td>\n",
       "      <td>AdWords Business Regional Winner Europe</td>\n",
       "    </tr>\n",
       "    <tr>\n",
       "      <th>4</th>\n",
       "      <td>2867969089</td>\n",
       "      <td>Turkey</td>\n",
       "      <td>Middle East and Africa</td>\n",
       "      <td>AdWords Business Regional Winner Middle East a...</td>\n",
       "    </tr>\n",
       "    <tr>\n",
       "      <th>6</th>\n",
       "      <td>5770664389</td>\n",
       "      <td>Lithuania</td>\n",
       "      <td>Europe</td>\n",
       "      <td>Google+ Social Media Marketing Global Winner</td>\n",
       "    </tr>\n",
       "    <tr>\n",
       "      <th>7</th>\n",
       "      <td>7022164718</td>\n",
       "      <td>Canada</td>\n",
       "      <td>Americas</td>\n",
       "      <td>Google+ Social Media Marketing Regional Winner...</td>\n",
       "    </tr>\n",
       "    <tr>\n",
       "      <th>8</th>\n",
       "      <td>5279343661</td>\n",
       "      <td>India</td>\n",
       "      <td>Asia Pacific</td>\n",
       "      <td>Google+ Social Media Marketing Regional Winner...</td>\n",
       "    </tr>\n",
       "    <tr>\n",
       "      <th>9</th>\n",
       "      <td>2177142438</td>\n",
       "      <td>France</td>\n",
       "      <td>Europe</td>\n",
       "      <td>Google+ Social Media Marketing Regional Winner...</td>\n",
       "    </tr>\n",
       "    <tr>\n",
       "      <th>10</th>\n",
       "      <td>4923669483</td>\n",
       "      <td>Nigeria</td>\n",
       "      <td>Middle East and Africa</td>\n",
       "      <td>Google+ Social Media Marketing Regional Winner...</td>\n",
       "    </tr>\n",
       "  </tbody>\n",
       "</table>\n",
       "</div>"
      ],
      "text/plain": [
       "    ﻿cid_value  country_value            region_value  \\\n",
       "0   3715278914          India            Asia Pacific   \n",
       "1   8150992559  United States                Americas   \n",
       "2   5053993634          India            Asia Pacific   \n",
       "3   2172973789        Germany                  Europe   \n",
       "4   2867969089         Turkey  Middle East and Africa   \n",
       "6   5770664389      Lithuania                  Europe   \n",
       "7   7022164718         Canada                Americas   \n",
       "8   5279343661          India            Asia Pacific   \n",
       "9   2177142438         France                  Europe   \n",
       "10  4923669483        Nigeria  Middle East and Africa   \n",
       "\n",
       "                                         rating_value  \n",
       "0                      AdWords Business Global Winner  \n",
       "1           AdWords Business Regional Winner Americas  \n",
       "2       AdWords Business Regional Winner Asia Pacific  \n",
       "3             AdWords Business Regional Winner Europe  \n",
       "4   AdWords Business Regional Winner Middle East a...  \n",
       "6        Google+ Social Media Marketing Global Winner  \n",
       "7   Google+ Social Media Marketing Regional Winner...  \n",
       "8   Google+ Social Media Marketing Regional Winner...  \n",
       "9   Google+ Social Media Marketing Regional Winner...  \n",
       "10  Google+ Social Media Marketing Regional Winner...  "
      ]
     },
     "execution_count": 40,
     "metadata": {},
     "output_type": "execute_result"
    }
   ],
   "source": [
    "gomc_df = gomc_df[gomc_df.country_value != \"----------------\"]\n",
    "gomc_df.head(10)\n",
    "#df = df[df.line_race != 0]"
   ]
  },
  {
   "cell_type": "code",
   "execution_count": 41,
   "metadata": {
    "collapsed": false
   },
   "outputs": [
    {
     "data": {
      "text/plain": [
       "6792"
      ]
     },
     "execution_count": 41,
     "metadata": {},
     "output_type": "execute_result"
    }
   ],
   "source": [
    "gomc_df.size"
   ]
  },
  {
   "cell_type": "code",
   "execution_count": 42,
   "metadata": {
    "collapsed": false
   },
   "outputs": [
    {
     "data": {
      "text/plain": [
       "Good                                                                     542\n",
       "Needs Improvement                                                        424\n",
       "Strong                                                                   238\n",
       "Disqualified                                                             227\n",
       "Poor                                                                     185\n",
       "AdWords Business Semi-Finalist                                            40\n",
       "AdWords Business Finalist                                                 15\n",
       "AdWords Social Impact Finalist                                             7\n",
       "Google+ Social Media Marketing Finalist                                    7\n",
       "AdWords Business Regional Winner Asia Pacific                              1\n",
       "Google+ Social Media Marketing Regional Winner Americas                    1\n",
       "Google+ Social Media Marketing Regional Winner Middle East and Africa      1\n",
       "AdWords Business Global Winner                                             1\n",
       "AdWords Social Impact Award 1st Place Winner                               1\n",
       "Google+ Social Media Marketing Regional Winner Europe                      1\n",
       "AdWords Social Impact Award 3rd Place Winner                               1\n",
       "Google+ Social Media Marketing Global Winner                               1\n",
       "AdWords Business Regional Winner Americas                                  1\n",
       "AdWords Business Regional Winner Europe                                    1\n",
       "AdWords Social Impact Award 2nd Place Winner                               1\n",
       "Google+ Social Media Marketing Regional Winner Asia and Pacific            1\n",
       "AdWords Business Regional Winner Middle East and Africa                    1\n",
       "Name: rating_value, dtype: int64"
      ]
     },
     "execution_count": 42,
     "metadata": {},
     "output_type": "execute_result"
    }
   ],
   "source": [
    "gomc_df.rating_value.value_counts()"
   ]
  },
  {
   "cell_type": "code",
   "execution_count": 47,
   "metadata": {
    "collapsed": false
   },
   "outputs": [],
   "source": [
    "def unique_values(column):\n",
    "    return column.unique()\n",
    "\n",
    "def count_unique_values(column):\n",
    "    return len(column.unique())\n",
    "\n",
    "def count_column_values(column):\n",
    "    return column.value_counts()\n",
    "    "
   ]
  },
  {
   "cell_type": "markdown",
   "metadata": {},
   "source": [
    "# Countries"
   ]
  },
  {
   "cell_type": "markdown",
   "metadata": {},
   "source": [
    "Number of participating countries: "
   ]
  },
  {
   "cell_type": "code",
   "execution_count": 24,
   "metadata": {
    "collapsed": false
   },
   "outputs": [
    {
     "data": {
      "text/plain": [
       "62"
      ]
     },
     "execution_count": 24,
     "metadata": {},
     "output_type": "execute_result"
    }
   ],
   "source": [
    "\n",
    "count_unique_values(gomc_df.country_value)"
   ]
  },
  {
   "cell_type": "code",
   "execution_count": 25,
   "metadata": {
    "collapsed": false
   },
   "outputs": [
    {
     "data": {
      "text/plain": [
       "array(['India', 'United States', 'Germany', 'Turkey', 'Lithuania',\n",
       "       'Canada', 'France', 'Nigeria', 'Spain', 'Bulgaria', 'Netherlands',\n",
       "       'Poland', 'Austria', 'Italy', 'Egypt', 'Philippines', 'New Zealand',\n",
       "       'Australia', 'Uganda', 'Kenya', 'Cameroon', 'Czech Republic',\n",
       "       'Ghana', 'Finland', 'Croatia', 'Ireland', 'Greece', 'Colombia',\n",
       "       'Hungary', 'Switzerland', 'United Kingdom', 'Slovakia', 'Armenia',\n",
       "       'Aruba', 'Singapore', 'Norway', 'Serbia', 'Indonesia', 'Romania',\n",
       "       'Mauritius', 'Slovenia', 'Belgium', 'Palestinian Territory',\n",
       "       'Portugal', 'Puerto Rico', 'Japan', 'South Africa', 'Vietnam',\n",
       "       'Peru', 'Sweden', 'Chile', 'Denmark', 'Ecuador', 'Thailand',\n",
       "       'Saudi Arabia', 'Morocco', 'Brazil', 'Malaysia', 'Kazakhstan',\n",
       "       'Macedonia', 'Lebanon', 'Pakistan'], dtype=object)"
      ]
     },
     "execution_count": 25,
     "metadata": {},
     "output_type": "execute_result"
    }
   ],
   "source": [
    "unique_values(gomc_df.country_value)"
   ]
  },
  {
   "cell_type": "code",
   "execution_count": 49,
   "metadata": {
    "collapsed": false
   },
   "outputs": [
    {
     "data": {
      "text/plain": [
       "array(['Asia Pacific', 'Americas', 'Europe', 'Middle East and Africa'], dtype=object)"
      ]
     },
     "execution_count": 49,
     "metadata": {},
     "output_type": "execute_result"
    }
   ],
   "source": [
    "unique_values(gomc_df.region_value)"
   ]
  },
  {
   "cell_type": "code",
   "execution_count": 34,
   "metadata": {
    "collapsed": false
   },
   "outputs": [],
   "source": [
    "\n",
    "def filter_col(df, column, value):\n",
    "    return df[column == value]\n",
    "    #return newDf"
   ]
  },
  {
   "cell_type": "markdown",
   "metadata": {},
   "source": [
    "# European countries"
   ]
  },
  {
   "cell_type": "code",
   "execution_count": 44,
   "metadata": {
    "collapsed": false
   },
   "outputs": [
    {
     "data": {
      "text/html": [
       "<div>\n",
       "<table border=\"1\" class=\"dataframe\">\n",
       "  <thead>\n",
       "    <tr style=\"text-align: right;\">\n",
       "      <th></th>\n",
       "      <th>﻿cid_value</th>\n",
       "      <th>country_value</th>\n",
       "      <th>region_value</th>\n",
       "      <th>rating_value</th>\n",
       "    </tr>\n",
       "  </thead>\n",
       "  <tbody>\n",
       "    <tr>\n",
       "      <th>3</th>\n",
       "      <td>2172973789</td>\n",
       "      <td>Germany</td>\n",
       "      <td>Europe</td>\n",
       "      <td>AdWords Business Regional Winner Europe</td>\n",
       "    </tr>\n",
       "    <tr>\n",
       "      <th>6</th>\n",
       "      <td>5770664389</td>\n",
       "      <td>Lithuania</td>\n",
       "      <td>Europe</td>\n",
       "      <td>Google+ Social Media Marketing Global Winner</td>\n",
       "    </tr>\n",
       "  </tbody>\n",
       "</table>\n",
       "</div>"
      ],
      "text/plain": [
       "   ﻿cid_value country_value region_value  \\\n",
       "3  2172973789       Germany       Europe   \n",
       "6  5770664389     Lithuania       Europe   \n",
       "\n",
       "                                   rating_value  \n",
       "3       AdWords Business Regional Winner Europe  \n",
       "6  Google+ Social Media Marketing Global Winner  "
      ]
     },
     "execution_count": 44,
     "metadata": {},
     "output_type": "execute_result"
    }
   ],
   "source": [
    "gomc_europe = filter_col(gomc_df, gomc_df.region_value, \"Europe\")\n",
    "gomc_europe.head(2)"
   ]
  },
  {
   "cell_type": "code",
   "execution_count": 45,
   "metadata": {
    "collapsed": false
   },
   "outputs": [
    {
     "data": {
      "text/plain": [
       "28"
      ]
     },
     "execution_count": 45,
     "metadata": {},
     "output_type": "execute_result"
    }
   ],
   "source": [
    "count_unique_values(gomc_europe.country_value)"
   ]
  },
  {
   "cell_type": "code",
   "execution_count": 46,
   "metadata": {
    "collapsed": false
   },
   "outputs": [
    {
     "data": {
      "text/plain": [
       "array(['Germany', 'Lithuania', 'France', 'Spain', 'Bulgaria',\n",
       "       'Netherlands', 'Poland', 'Austria', 'Italy', 'Czech Republic',\n",
       "       'Finland', 'Croatia', 'Ireland', 'Greece', 'Hungary', 'Switzerland',\n",
       "       'United Kingdom', 'Slovakia', 'Armenia', 'Norway', 'Serbia',\n",
       "       'Romania', 'Slovenia', 'Belgium', 'Portugal', 'Sweden', 'Denmark',\n",
       "       'Macedonia'], dtype=object)"
      ]
     },
     "execution_count": 46,
     "metadata": {},
     "output_type": "execute_result"
    }
   ],
   "source": [
    "unique_values(gomc_europe.country_value)"
   ]
  },
  {
   "cell_type": "code",
   "execution_count": 48,
   "metadata": {
    "collapsed": false
   },
   "outputs": [
    {
     "data": {
      "text/plain": [
       "France            174\n",
       "Ireland            98\n",
       "Netherlands        85\n",
       "Switzerland        70\n",
       "Germany            56\n",
       "Spain              38\n",
       "Austria            35\n",
       "Greece             32\n",
       "United Kingdom     31\n",
       "Italy              27\n",
       "Finland            26\n",
       "Poland             26\n",
       "Czech Republic     23\n",
       "Belgium            15\n",
       "Portugal           14\n",
       "Norway             13\n",
       "Hungary            11\n",
       "Armenia             7\n",
       "Croatia             7\n",
       "Lithuania           7\n",
       "Slovenia            6\n",
       "Bulgaria            3\n",
       "Denmark             2\n",
       "Macedonia           1\n",
       "Sweden              1\n",
       "Slovakia            1\n",
       "Romania             1\n",
       "Serbia              1\n",
       "Name: country_value, dtype: int64"
      ]
     },
     "execution_count": 48,
     "metadata": {},
     "output_type": "execute_result"
    }
   ],
   "source": [
    "count_column_values(gomc_europe.country_value)"
   ]
  },
  {
   "cell_type": "markdown",
   "metadata": {},
   "source": [
    "# Americas"
   ]
  },
  {
   "cell_type": "code",
   "execution_count": 51,
   "metadata": {
    "collapsed": false
   },
   "outputs": [
    {
     "data": {
      "text/html": [
       "<div>\n",
       "<table border=\"1\" class=\"dataframe\">\n",
       "  <thead>\n",
       "    <tr style=\"text-align: right;\">\n",
       "      <th></th>\n",
       "      <th>﻿cid_value</th>\n",
       "      <th>country_value</th>\n",
       "      <th>region_value</th>\n",
       "      <th>rating_value</th>\n",
       "    </tr>\n",
       "  </thead>\n",
       "  <tbody>\n",
       "    <tr>\n",
       "      <th>1</th>\n",
       "      <td>8150992559</td>\n",
       "      <td>United States</td>\n",
       "      <td>Americas</td>\n",
       "      <td>AdWords Business Regional Winner Americas</td>\n",
       "    </tr>\n",
       "    <tr>\n",
       "      <th>7</th>\n",
       "      <td>7022164718</td>\n",
       "      <td>Canada</td>\n",
       "      <td>Americas</td>\n",
       "      <td>Google+ Social Media Marketing Regional Winner...</td>\n",
       "    </tr>\n",
       "  </tbody>\n",
       "</table>\n",
       "</div>"
      ],
      "text/plain": [
       "   ﻿cid_value  country_value region_value  \\\n",
       "1  8150992559  United States     Americas   \n",
       "7  7022164718         Canada     Americas   \n",
       "\n",
       "                                        rating_value  \n",
       "1          AdWords Business Regional Winner Americas  \n",
       "7  Google+ Social Media Marketing Regional Winner...  "
      ]
     },
     "execution_count": 51,
     "metadata": {},
     "output_type": "execute_result"
    }
   ],
   "source": [
    "gomc_americas = filter_col(gomc_df, gomc_df.region_value, \"Americas\")\n",
    "gomc_americas.head(2)"
   ]
  },
  {
   "cell_type": "code",
   "execution_count": 52,
   "metadata": {
    "collapsed": false
   },
   "outputs": [
    {
     "data": {
      "text/plain": [
       "9"
      ]
     },
     "execution_count": 52,
     "metadata": {},
     "output_type": "execute_result"
    }
   ],
   "source": [
    "count_unique_values(gomc_americas.country_value)"
   ]
  },
  {
   "cell_type": "code",
   "execution_count": 53,
   "metadata": {
    "collapsed": false
   },
   "outputs": [
    {
     "data": {
      "text/plain": [
       "array(['United States', 'Canada', 'Colombia', 'Aruba', 'Puerto Rico',\n",
       "       'Peru', 'Chile', 'Ecuador', 'Brazil'], dtype=object)"
      ]
     },
     "execution_count": 53,
     "metadata": {},
     "output_type": "execute_result"
    }
   ],
   "source": [
    "unique_values(gomc_americas.country_value)"
   ]
  },
  {
   "cell_type": "code",
   "execution_count": 54,
   "metadata": {
    "collapsed": false
   },
   "outputs": [
    {
     "data": {
      "text/plain": [
       "United States    483\n",
       "Canada            73\n",
       "Chile             11\n",
       "Ecuador            5\n",
       "Peru               4\n",
       "Aruba              3\n",
       "Colombia           2\n",
       "Brazil             2\n",
       "Puerto Rico        1\n",
       "Name: country_value, dtype: int64"
      ]
     },
     "execution_count": 54,
     "metadata": {},
     "output_type": "execute_result"
    }
   ],
   "source": [
    "count_column_values(gomc_americas.country_value)"
   ]
  },
  {
   "cell_type": "markdown",
   "metadata": {},
   "source": [
    "# Asia Pacific"
   ]
  },
  {
   "cell_type": "code",
   "execution_count": 55,
   "metadata": {
    "collapsed": false
   },
   "outputs": [
    {
     "data": {
      "text/html": [
       "<div>\n",
       "<table border=\"1\" class=\"dataframe\">\n",
       "  <thead>\n",
       "    <tr style=\"text-align: right;\">\n",
       "      <th></th>\n",
       "      <th>﻿cid_value</th>\n",
       "      <th>country_value</th>\n",
       "      <th>region_value</th>\n",
       "      <th>rating_value</th>\n",
       "    </tr>\n",
       "  </thead>\n",
       "  <tbody>\n",
       "    <tr>\n",
       "      <th>0</th>\n",
       "      <td>3715278914</td>\n",
       "      <td>India</td>\n",
       "      <td>Asia Pacific</td>\n",
       "      <td>AdWords Business Global Winner</td>\n",
       "    </tr>\n",
       "    <tr>\n",
       "      <th>2</th>\n",
       "      <td>5053993634</td>\n",
       "      <td>India</td>\n",
       "      <td>Asia Pacific</td>\n",
       "      <td>AdWords Business Regional Winner Asia Pacific</td>\n",
       "    </tr>\n",
       "  </tbody>\n",
       "</table>\n",
       "</div>"
      ],
      "text/plain": [
       "   ﻿cid_value country_value  region_value  \\\n",
       "0  3715278914         India  Asia Pacific   \n",
       "2  5053993634         India  Asia Pacific   \n",
       "\n",
       "                                    rating_value  \n",
       "0                 AdWords Business Global Winner  \n",
       "2  AdWords Business Regional Winner Asia Pacific  "
      ]
     },
     "execution_count": 55,
     "metadata": {},
     "output_type": "execute_result"
    }
   ],
   "source": [
    "gomc_asiaP = filter_col(gomc_df, gomc_df.region_value, \"Asia Pacific\")\n",
    "gomc_asiaP.head(2)"
   ]
  },
  {
   "cell_type": "code",
   "execution_count": 56,
   "metadata": {
    "collapsed": false
   },
   "outputs": [
    {
     "data": {
      "text/plain": [
       "11"
      ]
     },
     "execution_count": 56,
     "metadata": {},
     "output_type": "execute_result"
    }
   ],
   "source": [
    "count_unique_values(gomc_asiaP.country_value)"
   ]
  },
  {
   "cell_type": "code",
   "execution_count": 57,
   "metadata": {
    "collapsed": false
   },
   "outputs": [
    {
     "data": {
      "text/plain": [
       "array(['India', 'Philippines', 'New Zealand', 'Australia', 'Singapore',\n",
       "       'Indonesia', 'Japan', 'Vietnam', 'Thailand', 'Malaysia',\n",
       "       'Kazakhstan'], dtype=object)"
      ]
     },
     "execution_count": 57,
     "metadata": {},
     "output_type": "execute_result"
    }
   ],
   "source": [
    "unique_values(gomc_asiaP.country_value)"
   ]
  },
  {
   "cell_type": "code",
   "execution_count": 58,
   "metadata": {
    "collapsed": false
   },
   "outputs": [
    {
     "data": {
      "text/plain": [
       "India          92\n",
       "Australia      71\n",
       "Singapore      14\n",
       "New Zealand     6\n",
       "Philippines     6\n",
       "Japan           3\n",
       "Vietnam         2\n",
       "Malaysia        2\n",
       "Kazakhstan      1\n",
       "Indonesia       1\n",
       "Thailand        1\n",
       "Name: country_value, dtype: int64"
      ]
     },
     "execution_count": 58,
     "metadata": {},
     "output_type": "execute_result"
    }
   ],
   "source": [
    "count_column_values(gomc_asiaP.country_value)"
   ]
  },
  {
   "cell_type": "markdown",
   "metadata": {},
   "source": [
    "# Middle East and Africa"
   ]
  },
  {
   "cell_type": "code",
   "execution_count": 67,
   "metadata": {
    "collapsed": false
   },
   "outputs": [
    {
     "data": {
      "text/html": [
       "<div>\n",
       "<table border=\"1\" class=\"dataframe\">\n",
       "  <thead>\n",
       "    <tr style=\"text-align: right;\">\n",
       "      <th></th>\n",
       "      <th>﻿cid_value</th>\n",
       "      <th>country_value</th>\n",
       "      <th>region_value</th>\n",
       "      <th>rating_value</th>\n",
       "    </tr>\n",
       "  </thead>\n",
       "  <tbody>\n",
       "    <tr>\n",
       "      <th>4</th>\n",
       "      <td>2867969089</td>\n",
       "      <td>Turkey</td>\n",
       "      <td>Middle East and Africa</td>\n",
       "      <td>AdWords Business Regional Winner Middle East a...</td>\n",
       "    </tr>\n",
       "    <tr>\n",
       "      <th>10</th>\n",
       "      <td>4923669483</td>\n",
       "      <td>Nigeria</td>\n",
       "      <td>Middle East and Africa</td>\n",
       "      <td>Google+ Social Media Marketing Regional Winner...</td>\n",
       "    </tr>\n",
       "  </tbody>\n",
       "</table>\n",
       "</div>"
      ],
      "text/plain": [
       "    ﻿cid_value country_value            region_value  \\\n",
       "4   2867969089        Turkey  Middle East and Africa   \n",
       "10  4923669483       Nigeria  Middle East and Africa   \n",
       "\n",
       "                                         rating_value  \n",
       "4   AdWords Business Regional Winner Middle East a...  \n",
       "10  Google+ Social Media Marketing Regional Winner...  "
      ]
     },
     "execution_count": 67,
     "metadata": {},
     "output_type": "execute_result"
    }
   ],
   "source": [
    "gomc_meAf = filter_col(gomc_df, gomc_df.region_value, \"Middle East and Africa\")\n",
    "gomc_meAf.head(2)"
   ]
  },
  {
   "cell_type": "code",
   "execution_count": 68,
   "metadata": {
    "collapsed": false
   },
   "outputs": [
    {
     "data": {
      "text/plain": [
       "14"
      ]
     },
     "execution_count": 68,
     "metadata": {},
     "output_type": "execute_result"
    }
   ],
   "source": [
    "count_unique_values(gomc_meAf.country_value)"
   ]
  },
  {
   "cell_type": "code",
   "execution_count": 69,
   "metadata": {
    "collapsed": false
   },
   "outputs": [
    {
     "data": {
      "text/plain": [
       "array(['Turkey', 'Nigeria', 'Egypt', 'Uganda', 'Kenya', 'Cameroon',\n",
       "       'Ghana', 'Mauritius', 'Palestinian Territory', 'South Africa',\n",
       "       'Saudi Arabia', 'Morocco', 'Lebanon', 'Pakistan'], dtype=object)"
      ]
     },
     "execution_count": 69,
     "metadata": {},
     "output_type": "execute_result"
    }
   ],
   "source": [
    "unique_values(gomc_meAf.country_value)"
   ]
  },
  {
   "cell_type": "code",
   "execution_count": 70,
   "metadata": {
    "collapsed": false
   },
   "outputs": [
    {
     "data": {
      "text/plain": [
       "Nigeria                  34\n",
       "Mauritius                17\n",
       "Ghana                    13\n",
       "South Africa             12\n",
       "Turkey                    6\n",
       "Uganda                    5\n",
       "Kenya                     4\n",
       "Saudi Arabia              4\n",
       "Cameroon                  3\n",
       "Egypt                     2\n",
       "Morocco                   1\n",
       "Lebanon                   1\n",
       "Palestinian Territory     1\n",
       "Pakistan                  1\n",
       "Name: country_value, dtype: int64"
      ]
     },
     "execution_count": 70,
     "metadata": {},
     "output_type": "execute_result"
    }
   ],
   "source": [
    "count_column_values(gomc_meAf.country_value)"
   ]
  },
  {
   "cell_type": "code",
   "execution_count": null,
   "metadata": {
    "collapsed": true
   },
   "outputs": [],
   "source": []
  }
 ],
 "metadata": {
  "kernelspec": {
   "display_name": "Python 2",
   "language": "python",
   "name": "python2"
  },
  "language_info": {
   "codemirror_mode": {
    "name": "ipython",
    "version": 2
   },
   "file_extension": ".py",
   "mimetype": "text/x-python",
   "name": "python",
   "nbconvert_exporter": "python",
   "pygments_lexer": "ipython2",
   "version": "2.7.11"
  }
 },
 "nbformat": 4,
 "nbformat_minor": 0
}
